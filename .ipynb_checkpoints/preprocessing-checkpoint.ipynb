{
 "cells": [
  {
   "cell_type": "code",
   "execution_count": null,
   "id": "2f4de0c2",
   "metadata": {},
   "outputs": [],
   "source": [
    "import hashlib\n",
    "import numpy as np\n",
    "from numpy import array\n",
    "\n",
    "completed_lines_hash = set()\n",
    "lines= 0\n",
    "written = 0\n",
    "#Save processed data to SMILES.txt\n",
    "new = open(\"smiles.txt\", \"w\")\n",
    "\n",
    "#Read in data file line by line\n",
    "for line in open(\"data.txt\", \"r\"):\n",
    "    lines= lines+1\n",
    "    #Ensure all smiles in original data file are unique\n",
    "    hashValue = hashlib.md5(line.rstrip().encode('utf-8')).hexdigest()\n",
    "  \n",
    "    if hashValue in completed_lines_hash:\n",
    "        print(line)\n",
    "        \n",
    "    if hashValue not in completed_lines_hash:\n",
    "        completed_lines_hash.add(hashValue)\n",
    "        \n",
    "        \n",
    "            #Add start token\n",
    "        line = line.rjust(len(line)+1, \"G\")\n",
    "        written = written+1\n",
    "            #Copy over SMILES satisfying requirements\n",
    "        new.write(line)\n",
    "    \n",
    "new.close()\n",
    "#Close files"
   ]
  },
  {
   "cell_type": "code",
   "execution_count": 2,
   "id": "22e17967",
   "metadata": {},
   "outputs": [
    {
     "data": {
      "text/plain": [
       "672992"
      ]
     },
     "execution_count": 2,
     "metadata": {},
     "output_type": "execute_result"
    }
   ],
   "source": [
    "written"
   ]
  }
 ],
 "metadata": {
  "kernelspec": {
   "display_name": "Python 3 (ipykernel)",
   "language": "python",
   "name": "python3"
  },
  "language_info": {
   "codemirror_mode": {
    "name": "ipython",
    "version": 3
   },
   "file_extension": ".py",
   "mimetype": "text/x-python",
   "name": "python",
   "nbconvert_exporter": "python",
   "pygments_lexer": "ipython3",
   "version": "3.9.16"
  }
 },
 "nbformat": 4,
 "nbformat_minor": 5
}
